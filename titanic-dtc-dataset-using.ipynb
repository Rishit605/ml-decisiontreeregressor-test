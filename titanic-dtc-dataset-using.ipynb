{
 "cells": [
  {
   "cell_type": "code",
   "execution_count": 1,
   "id": "4198ee69",
   "metadata": {
    "_cell_guid": "b1076dfc-b9ad-4769-8c92-a6c4dae69d19",
    "_uuid": "8f2839f25d086af736a60e9eeb907d3b93b6e0e5",
    "execution": {
     "iopub.execute_input": "2022-05-28T07:59:53.873625Z",
     "iopub.status.busy": "2022-05-28T07:59:53.873137Z",
     "iopub.status.idle": "2022-05-28T07:59:53.885624Z",
     "shell.execute_reply": "2022-05-28T07:59:53.884992Z"
    },
    "papermill": {
     "duration": 0.026826,
     "end_time": "2022-05-28T07:59:53.887768",
     "exception": false,
     "start_time": "2022-05-28T07:59:53.860942",
     "status": "completed"
    },
    "tags": []
   },
   "outputs": [
    {
     "name": "stdout",
     "output_type": "stream",
     "text": [
      "/kaggle/input/titanic/train.csv\n",
      "/kaggle/input/titanic/test.csv\n",
      "/kaggle/input/titanic/gender_submission.csv\n"
     ]
    }
   ],
   "source": [
    "# This Python 3 environment comes with many helpful analytics libraries installed\n",
    "# It is defined by the kaggle/python Docker image: https://github.com/kaggle/docker-python\n",
    "# For example, here's several helpful packages to load\n",
    "\n",
    "import numpy as np # linear algebra\n",
    "import pandas as pd # data processing, CSV file I/O (e.g. pd.read_csv)\n",
    "\n",
    "# Input data files are available in the read-only \"../input/\" directory\n",
    "# For example, running this (by clicking run or pressing Shift+Enter) will list all files under the input directory\n",
    "\n",
    "import os\n",
    "for dirname, _, filenames in os.walk('/kaggle/input'):\n",
    "    for filename in filenames:\n",
    "        print(os.path.join(dirname, filename))\n",
    "\n",
    "# You can write up to 20GB to the current directory (/kaggle/working/) that gets preserved as output when you create a version using \"Save & Run All\" \n",
    "# You can also write temporary files to /kaggle/temp/, but they won't be saved outside of the current session"
   ]
  },
  {
   "cell_type": "markdown",
   "id": "22fcc1b2",
   "metadata": {
    "papermill": {
     "duration": 0.007018,
     "end_time": "2022-05-28T07:59:53.902231",
     "exception": false,
     "start_time": "2022-05-28T07:59:53.895213",
     "status": "completed"
    },
    "tags": []
   },
   "source": [
    "# **Importing Libraries and Dependencies**"
   ]
  },
  {
   "cell_type": "code",
   "execution_count": 2,
   "id": "60a9850f",
   "metadata": {
    "execution": {
     "iopub.execute_input": "2022-05-28T07:59:53.918222Z",
     "iopub.status.busy": "2022-05-28T07:59:53.917822Z",
     "iopub.status.idle": "2022-05-28T07:59:55.453918Z",
     "shell.execute_reply": "2022-05-28T07:59:55.452851Z"
    },
    "papermill": {
     "duration": 1.547117,
     "end_time": "2022-05-28T07:59:55.456521",
     "exception": false,
     "start_time": "2022-05-28T07:59:53.909404",
     "status": "completed"
    },
    "tags": []
   },
   "outputs": [],
   "source": [
    "from sklearn.ensemble import RandomForestClassifier\n",
    "from sklearn.tree import DecisionTreeClassifier\n",
    "import seaborn as sns"
   ]
  },
  {
   "cell_type": "markdown",
   "id": "b3f42136",
   "metadata": {
    "papermill": {
     "duration": 0.007133,
     "end_time": "2022-05-28T07:59:55.471629",
     "exception": false,
     "start_time": "2022-05-28T07:59:55.464496",
     "status": "completed"
    },
    "tags": []
   },
   "source": [
    "# **Reading the Data**"
   ]
  },
  {
   "cell_type": "code",
   "execution_count": 3,
   "id": "752b3794",
   "metadata": {
    "execution": {
     "iopub.execute_input": "2022-05-28T07:59:55.488646Z",
     "iopub.status.busy": "2022-05-28T07:59:55.488106Z",
     "iopub.status.idle": "2022-05-28T07:59:55.515061Z",
     "shell.execute_reply": "2022-05-28T07:59:55.513948Z"
    },
    "papermill": {
     "duration": 0.038275,
     "end_time": "2022-05-28T07:59:55.517392",
     "exception": false,
     "start_time": "2022-05-28T07:59:55.479117",
     "status": "completed"
    },
    "tags": []
   },
   "outputs": [],
   "source": [
    "tit_train = pd.read_csv('../input/titanic/train.csv')\n",
    "tit_test = pd.read_csv('../input/titanic/test.csv')"
   ]
  },
  {
   "cell_type": "code",
   "execution_count": 4,
   "id": "0e5fd8fc",
   "metadata": {
    "execution": {
     "iopub.execute_input": "2022-05-28T07:59:55.533967Z",
     "iopub.status.busy": "2022-05-28T07:59:55.533569Z",
     "iopub.status.idle": "2022-05-28T07:59:55.560210Z",
     "shell.execute_reply": "2022-05-28T07:59:55.558795Z"
    },
    "papermill": {
     "duration": 0.037338,
     "end_time": "2022-05-28T07:59:55.562220",
     "exception": false,
     "start_time": "2022-05-28T07:59:55.524882",
     "status": "completed"
    },
    "tags": []
   },
   "outputs": [
    {
     "name": "stdout",
     "output_type": "stream",
     "text": [
      "<class 'pandas.core.frame.DataFrame'>\n",
      "RangeIndex: 891 entries, 0 to 890\n",
      "Data columns (total 12 columns):\n",
      " #   Column       Non-Null Count  Dtype  \n",
      "---  ------       --------------  -----  \n",
      " 0   PassengerId  891 non-null    int64  \n",
      " 1   Survived     891 non-null    int64  \n",
      " 2   Pclass       891 non-null    int64  \n",
      " 3   Name         891 non-null    object \n",
      " 4   Sex          891 non-null    object \n",
      " 5   Age          714 non-null    float64\n",
      " 6   SibSp        891 non-null    int64  \n",
      " 7   Parch        891 non-null    int64  \n",
      " 8   Ticket       891 non-null    object \n",
      " 9   Fare         891 non-null    float64\n",
      " 10  Cabin        204 non-null    object \n",
      " 11  Embarked     889 non-null    object \n",
      "dtypes: float64(2), int64(5), object(5)\n",
      "memory usage: 83.7+ KB\n"
     ]
    }
   ],
   "source": [
    "tit_train.info()"
   ]
  },
  {
   "cell_type": "code",
   "execution_count": 5,
   "id": "671cf6c9",
   "metadata": {
    "execution": {
     "iopub.execute_input": "2022-05-28T07:59:55.578687Z",
     "iopub.status.busy": "2022-05-28T07:59:55.577751Z",
     "iopub.status.idle": "2022-05-28T07:59:55.592414Z",
     "shell.execute_reply": "2022-05-28T07:59:55.591710Z"
    },
    "papermill": {
     "duration": 0.024665,
     "end_time": "2022-05-28T07:59:55.594265",
     "exception": false,
     "start_time": "2022-05-28T07:59:55.569600",
     "status": "completed"
    },
    "tags": []
   },
   "outputs": [
    {
     "data": {
      "text/plain": [
       "(   PassengerId  Survived  Pclass  \\\n",
       " 0            1         0       3   \n",
       " 1            2         1       1   \n",
       " 2            3         1       3   \n",
       " 3            4         1       1   \n",
       " 4            5         0       3   \n",
       " \n",
       "                                                 Name     Sex   Age  SibSp  \\\n",
       " 0                            Braund, Mr. Owen Harris    male  22.0      1   \n",
       " 1  Cumings, Mrs. John Bradley (Florence Briggs Th...  female  38.0      1   \n",
       " 2                             Heikkinen, Miss. Laina  female  26.0      0   \n",
       " 3       Futrelle, Mrs. Jacques Heath (Lily May Peel)  female  35.0      1   \n",
       " 4                           Allen, Mr. William Henry    male  35.0      0   \n",
       " \n",
       "    Parch            Ticket     Fare Cabin Embarked  \n",
       " 0      0         A/5 21171   7.2500   NaN        S  \n",
       " 1      0          PC 17599  71.2833   C85        C  \n",
       " 2      0  STON/O2. 3101282   7.9250   NaN        S  \n",
       " 3      0            113803  53.1000  C123        S  \n",
       " 4      0            373450   8.0500   NaN        S  ,\n",
       " (891, 12))"
      ]
     },
     "execution_count": 5,
     "metadata": {},
     "output_type": "execute_result"
    }
   ],
   "source": [
    "tit_train.head(), tit_train.shape"
   ]
  },
  {
   "cell_type": "code",
   "execution_count": 6,
   "id": "ae297194",
   "metadata": {
    "execution": {
     "iopub.execute_input": "2022-05-28T07:59:55.611636Z",
     "iopub.status.busy": "2022-05-28T07:59:55.611024Z",
     "iopub.status.idle": "2022-05-28T07:59:55.620340Z",
     "shell.execute_reply": "2022-05-28T07:59:55.619482Z"
    },
    "papermill": {
     "duration": 0.020117,
     "end_time": "2022-05-28T07:59:55.622484",
     "exception": false,
     "start_time": "2022-05-28T07:59:55.602367",
     "status": "completed"
    },
    "tags": []
   },
   "outputs": [
    {
     "data": {
      "text/plain": [
       "(PassengerId      0\n",
       " Survived         0\n",
       " Pclass           0\n",
       " Name             0\n",
       " Sex              0\n",
       " Age            177\n",
       " SibSp            0\n",
       " Parch            0\n",
       " Ticket           0\n",
       " Fare             0\n",
       " Cabin          687\n",
       " Embarked         2\n",
       " dtype: int64,\n",
       " Index(['PassengerId', 'Survived', 'Pclass', 'Name', 'Sex', 'Age', 'SibSp',\n",
       "        'Parch', 'Ticket', 'Fare', 'Cabin', 'Embarked'],\n",
       "       dtype='object'))"
      ]
     },
     "execution_count": 6,
     "metadata": {},
     "output_type": "execute_result"
    }
   ],
   "source": [
    "tit_train.isnull().sum(), tit_train.columns\n"
   ]
  },
  {
   "cell_type": "code",
   "execution_count": 7,
   "id": "22551a4c",
   "metadata": {
    "execution": {
     "iopub.execute_input": "2022-05-28T07:59:55.640031Z",
     "iopub.status.busy": "2022-05-28T07:59:55.639081Z",
     "iopub.status.idle": "2022-05-28T07:59:55.648451Z",
     "shell.execute_reply": "2022-05-28T07:59:55.647700Z"
    },
    "papermill": {
     "duration": 0.020465,
     "end_time": "2022-05-28T07:59:55.650438",
     "exception": false,
     "start_time": "2022-05-28T07:59:55.629973",
     "status": "completed"
    },
    "tags": []
   },
   "outputs": [
    {
     "data": {
      "text/plain": [
       "(PassengerId      0\n",
       " Pclass           0\n",
       " Name             0\n",
       " Sex              0\n",
       " Age             86\n",
       " SibSp            0\n",
       " Parch            0\n",
       " Ticket           0\n",
       " Fare             1\n",
       " Cabin          327\n",
       " Embarked         0\n",
       " dtype: int64,\n",
       " Index(['PassengerId', 'Pclass', 'Name', 'Sex', 'Age', 'SibSp', 'Parch',\n",
       "        'Ticket', 'Fare', 'Cabin', 'Embarked'],\n",
       "       dtype='object'))"
      ]
     },
     "execution_count": 7,
     "metadata": {},
     "output_type": "execute_result"
    }
   ],
   "source": [
    "tit_test.isnull().sum(), tit_test.columns"
   ]
  },
  {
   "cell_type": "code",
   "execution_count": 8,
   "id": "4ed57673",
   "metadata": {
    "execution": {
     "iopub.execute_input": "2022-05-28T07:59:55.667532Z",
     "iopub.status.busy": "2022-05-28T07:59:55.666845Z",
     "iopub.status.idle": "2022-05-28T07:59:55.670899Z",
     "shell.execute_reply": "2022-05-28T07:59:55.670223Z"
    },
    "papermill": {
     "duration": 0.014622,
     "end_time": "2022-05-28T07:59:55.672753",
     "exception": false,
     "start_time": "2022-05-28T07:59:55.658131",
     "status": "completed"
    },
    "tags": []
   },
   "outputs": [],
   "source": [
    "# titanic_missing_vals = (tit_train.isnull().sum())\n",
    "# print(titanic_missing_vals[titanic_missing_vals > 0])"
   ]
  },
  {
   "cell_type": "code",
   "execution_count": 9,
   "id": "9e4ec390",
   "metadata": {
    "execution": {
     "iopub.execute_input": "2022-05-28T07:59:55.689472Z",
     "iopub.status.busy": "2022-05-28T07:59:55.688814Z",
     "iopub.status.idle": "2022-05-28T07:59:55.692813Z",
     "shell.execute_reply": "2022-05-28T07:59:55.692139Z"
    },
    "papermill": {
     "duration": 0.014551,
     "end_time": "2022-05-28T07:59:55.694735",
     "exception": false,
     "start_time": "2022-05-28T07:59:55.680184",
     "status": "completed"
    },
    "tags": []
   },
   "outputs": [],
   "source": [
    "# tit_train2 = tit_train.fillna(float(f\"NaN\")) # Could use a Range Value\n",
    "# tit_train2"
   ]
  },
  {
   "cell_type": "code",
   "execution_count": 10,
   "id": "70139d72",
   "metadata": {
    "execution": {
     "iopub.execute_input": "2022-05-28T07:59:55.711833Z",
     "iopub.status.busy": "2022-05-28T07:59:55.711186Z",
     "iopub.status.idle": "2022-05-28T07:59:55.715524Z",
     "shell.execute_reply": "2022-05-28T07:59:55.714719Z"
    },
    "papermill": {
     "duration": 0.015218,
     "end_time": "2022-05-28T07:59:55.717611",
     "exception": false,
     "start_time": "2022-05-28T07:59:55.702393",
     "status": "completed"
    },
    "tags": []
   },
   "outputs": [],
   "source": [
    "# tit_train3 = tit_train.dropna(subset = [\"Cabin\", \"Age\", \"Embarked\"], inplace=False)\n",
    "# tit_train3"
   ]
  },
  {
   "cell_type": "code",
   "execution_count": 11,
   "id": "56642c10",
   "metadata": {
    "execution": {
     "iopub.execute_input": "2022-05-28T07:59:55.735050Z",
     "iopub.status.busy": "2022-05-28T07:59:55.734367Z",
     "iopub.status.idle": "2022-05-28T07:59:55.738744Z",
     "shell.execute_reply": "2022-05-28T07:59:55.737991Z"
    },
    "papermill": {
     "duration": 0.015305,
     "end_time": "2022-05-28T07:59:55.740640",
     "exception": false,
     "start_time": "2022-05-28T07:59:55.725335",
     "status": "completed"
    },
    "tags": []
   },
   "outputs": [],
   "source": [
    "# tit_train3.shape"
   ]
  },
  {
   "cell_type": "code",
   "execution_count": 12,
   "id": "1c8d900a",
   "metadata": {
    "execution": {
     "iopub.execute_input": "2022-05-28T07:59:55.758440Z",
     "iopub.status.busy": "2022-05-28T07:59:55.757811Z",
     "iopub.status.idle": "2022-05-28T07:59:55.792880Z",
     "shell.execute_reply": "2022-05-28T07:59:55.791980Z"
    },
    "papermill": {
     "duration": 0.046201,
     "end_time": "2022-05-28T07:59:55.794793",
     "exception": false,
     "start_time": "2022-05-28T07:59:55.748592",
     "status": "completed"
    },
    "tags": []
   },
   "outputs": [
    {
     "data": {
      "text/html": [
       "<div>\n",
       "<style scoped>\n",
       "    .dataframe tbody tr th:only-of-type {\n",
       "        vertical-align: middle;\n",
       "    }\n",
       "\n",
       "    .dataframe tbody tr th {\n",
       "        vertical-align: top;\n",
       "    }\n",
       "\n",
       "    .dataframe thead th {\n",
       "        text-align: right;\n",
       "    }\n",
       "</style>\n",
       "<table border=\"1\" class=\"dataframe\">\n",
       "  <thead>\n",
       "    <tr style=\"text-align: right;\">\n",
       "      <th></th>\n",
       "      <th>PassengerId</th>\n",
       "      <th>Survived</th>\n",
       "      <th>Pclass</th>\n",
       "      <th>Age</th>\n",
       "      <th>SibSp</th>\n",
       "      <th>Parch</th>\n",
       "      <th>Fare</th>\n",
       "    </tr>\n",
       "  </thead>\n",
       "  <tbody>\n",
       "    <tr>\n",
       "      <th>count</th>\n",
       "      <td>891.000000</td>\n",
       "      <td>891.000000</td>\n",
       "      <td>891.000000</td>\n",
       "      <td>714.000000</td>\n",
       "      <td>891.000000</td>\n",
       "      <td>891.000000</td>\n",
       "      <td>891.000000</td>\n",
       "    </tr>\n",
       "    <tr>\n",
       "      <th>mean</th>\n",
       "      <td>446.000000</td>\n",
       "      <td>0.383838</td>\n",
       "      <td>2.308642</td>\n",
       "      <td>29.699118</td>\n",
       "      <td>0.523008</td>\n",
       "      <td>0.381594</td>\n",
       "      <td>32.204208</td>\n",
       "    </tr>\n",
       "    <tr>\n",
       "      <th>std</th>\n",
       "      <td>257.353842</td>\n",
       "      <td>0.486592</td>\n",
       "      <td>0.836071</td>\n",
       "      <td>14.526497</td>\n",
       "      <td>1.102743</td>\n",
       "      <td>0.806057</td>\n",
       "      <td>49.693429</td>\n",
       "    </tr>\n",
       "    <tr>\n",
       "      <th>min</th>\n",
       "      <td>1.000000</td>\n",
       "      <td>0.000000</td>\n",
       "      <td>1.000000</td>\n",
       "      <td>0.420000</td>\n",
       "      <td>0.000000</td>\n",
       "      <td>0.000000</td>\n",
       "      <td>0.000000</td>\n",
       "    </tr>\n",
       "    <tr>\n",
       "      <th>25%</th>\n",
       "      <td>223.500000</td>\n",
       "      <td>0.000000</td>\n",
       "      <td>2.000000</td>\n",
       "      <td>20.125000</td>\n",
       "      <td>0.000000</td>\n",
       "      <td>0.000000</td>\n",
       "      <td>7.910400</td>\n",
       "    </tr>\n",
       "    <tr>\n",
       "      <th>50%</th>\n",
       "      <td>446.000000</td>\n",
       "      <td>0.000000</td>\n",
       "      <td>3.000000</td>\n",
       "      <td>28.000000</td>\n",
       "      <td>0.000000</td>\n",
       "      <td>0.000000</td>\n",
       "      <td>14.454200</td>\n",
       "    </tr>\n",
       "    <tr>\n",
       "      <th>75%</th>\n",
       "      <td>668.500000</td>\n",
       "      <td>1.000000</td>\n",
       "      <td>3.000000</td>\n",
       "      <td>38.000000</td>\n",
       "      <td>1.000000</td>\n",
       "      <td>0.000000</td>\n",
       "      <td>31.000000</td>\n",
       "    </tr>\n",
       "    <tr>\n",
       "      <th>max</th>\n",
       "      <td>891.000000</td>\n",
       "      <td>1.000000</td>\n",
       "      <td>3.000000</td>\n",
       "      <td>80.000000</td>\n",
       "      <td>8.000000</td>\n",
       "      <td>6.000000</td>\n",
       "      <td>512.329200</td>\n",
       "    </tr>\n",
       "  </tbody>\n",
       "</table>\n",
       "</div>"
      ],
      "text/plain": [
       "       PassengerId    Survived      Pclass         Age       SibSp  \\\n",
       "count   891.000000  891.000000  891.000000  714.000000  891.000000   \n",
       "mean    446.000000    0.383838    2.308642   29.699118    0.523008   \n",
       "std     257.353842    0.486592    0.836071   14.526497    1.102743   \n",
       "min       1.000000    0.000000    1.000000    0.420000    0.000000   \n",
       "25%     223.500000    0.000000    2.000000   20.125000    0.000000   \n",
       "50%     446.000000    0.000000    3.000000   28.000000    0.000000   \n",
       "75%     668.500000    1.000000    3.000000   38.000000    1.000000   \n",
       "max     891.000000    1.000000    3.000000   80.000000    8.000000   \n",
       "\n",
       "            Parch        Fare  \n",
       "count  891.000000  891.000000  \n",
       "mean     0.381594   32.204208  \n",
       "std      0.806057   49.693429  \n",
       "min      0.000000    0.000000  \n",
       "25%      0.000000    7.910400  \n",
       "50%      0.000000   14.454200  \n",
       "75%      0.000000   31.000000  \n",
       "max      6.000000  512.329200  "
      ]
     },
     "execution_count": 12,
     "metadata": {},
     "output_type": "execute_result"
    }
   ],
   "source": [
    "tit_train.describe()"
   ]
  },
  {
   "cell_type": "code",
   "execution_count": 13,
   "id": "3dbfba90",
   "metadata": {
    "execution": {
     "iopub.execute_input": "2022-05-28T07:59:55.812894Z",
     "iopub.status.busy": "2022-05-28T07:59:55.812513Z",
     "iopub.status.idle": "2022-05-28T07:59:55.819764Z",
     "shell.execute_reply": "2022-05-28T07:59:55.818680Z"
    },
    "papermill": {
     "duration": 0.018712,
     "end_time": "2022-05-28T07:59:55.821807",
     "exception": false,
     "start_time": "2022-05-28T07:59:55.803095",
     "status": "completed"
    },
    "tags": []
   },
   "outputs": [
    {
     "name": "stdout",
     "output_type": "stream",
     "text": [
      "% of women who survived: 0.7420382165605095\n"
     ]
    }
   ],
   "source": [
    "women = tit_train.loc[tit_train.Sex == 'female'][\"Survived\"]\n",
    "rate_women = sum(women)/len(women)\n",
    "\n",
    "print(\"% of women who survived:\", rate_women)"
   ]
  },
  {
   "cell_type": "code",
   "execution_count": 14,
   "id": "f4844a4a",
   "metadata": {
    "execution": {
     "iopub.execute_input": "2022-05-28T07:59:55.840582Z",
     "iopub.status.busy": "2022-05-28T07:59:55.839403Z",
     "iopub.status.idle": "2022-05-28T07:59:55.847977Z",
     "shell.execute_reply": "2022-05-28T07:59:55.846675Z"
    },
    "papermill": {
     "duration": 0.02005,
     "end_time": "2022-05-28T07:59:55.850156",
     "exception": false,
     "start_time": "2022-05-28T07:59:55.830106",
     "status": "completed"
    },
    "tags": []
   },
   "outputs": [
    {
     "name": "stdout",
     "output_type": "stream",
     "text": [
      "% of men who survived: 0.18890814558058924\n"
     ]
    }
   ],
   "source": [
    "men = tit_train.loc[tit_train.Sex == 'male'][\"Survived\"]\n",
    "rate_men = sum(men)/len(men)\n",
    "\n",
    "print(\"% of men who survived:\", rate_men)"
   ]
  },
  {
   "cell_type": "markdown",
   "id": "982974c8",
   "metadata": {
    "papermill": {
     "duration": 0.007756,
     "end_time": "2022-05-28T07:59:55.865992",
     "exception": false,
     "start_time": "2022-05-28T07:59:55.858236",
     "status": "completed"
    },
    "tags": []
   },
   "source": [
    "# **Graph Plotting**"
   ]
  },
  {
   "cell_type": "code",
   "execution_count": 15,
   "id": "5584a5a6",
   "metadata": {
    "execution": {
     "iopub.execute_input": "2022-05-28T07:59:55.884009Z",
     "iopub.status.busy": "2022-05-28T07:59:55.883250Z",
     "iopub.status.idle": "2022-05-28T07:59:56.158306Z",
     "shell.execute_reply": "2022-05-28T07:59:56.157432Z"
    },
    "papermill": {
     "duration": 0.28689,
     "end_time": "2022-05-28T07:59:56.160917",
     "exception": false,
     "start_time": "2022-05-28T07:59:55.874027",
     "status": "completed"
    },
    "tags": []
   },
   "outputs": [
    {
     "data": {
      "image/png": "[encoded data removed]",
      "text/plain": [
       "<Figure size 432x288 with 1 Axes>"
      ]
     },
     "metadata": {
      "needs_background": "light"
     },
     "output_type": "display_data"
    }
   ],
   "source": [
    "ax = sns.stripplot(x='Sex', y='Age', hue = 'Embarked' ,data = tit_train)\n",
    "# ax = sns.displot(x='Age', y='Embarked',data = tit_train)"
   ]
  },
  {
   "cell_type": "markdown",
   "id": "8f441534",
   "metadata": {
    "papermill": {
     "duration": 0.008659,
     "end_time": "2022-05-28T07:59:56.178553",
     "exception": false,
     "start_time": "2022-05-28T07:59:56.169894",
     "status": "completed"
    },
    "tags": []
   },
   "source": [
    "# **Training the model**"
   ]
  },
  {
   "cell_type": "code",
   "execution_count": 16,
   "id": "6f5d1fd1",
   "metadata": {
    "execution": {
     "iopub.execute_input": "2022-05-28T07:59:56.198689Z",
     "iopub.status.busy": "2022-05-28T07:59:56.198000Z",
     "iopub.status.idle": "2022-05-28T07:59:56.204971Z",
     "shell.execute_reply": "2022-05-28T07:59:56.203823Z"
    },
    "papermill": {
     "duration": 0.019509,
     "end_time": "2022-05-28T07:59:56.207137",
     "exception": false,
     "start_time": "2022-05-28T07:59:56.187628",
     "status": "completed"
    },
    "tags": []
   },
   "outputs": [
    {
     "data": {
      "text/plain": [
       "Index(['PassengerId', 'Survived', 'Pclass', 'Name', 'Sex', 'Age', 'SibSp',\n",
       "       'Parch', 'Ticket', 'Fare', 'Cabin', 'Embarked'],\n",
       "      dtype='object')"
      ]
     },
     "execution_count": 16,
     "metadata": {},
     "output_type": "execute_result"
    }
   ],
   "source": [
    "tit_train.columns"
   ]
  },
  {
   "cell_type": "code",
   "execution_count": 17,
   "id": "04e8d76e",
   "metadata": {
    "execution": {
     "iopub.execute_input": "2022-05-28T07:59:56.226569Z",
     "iopub.status.busy": "2022-05-28T07:59:56.226010Z",
     "iopub.status.idle": "2022-05-28T07:59:56.239321Z",
     "shell.execute_reply": "2022-05-28T07:59:56.238638Z"
    },
    "papermill": {
     "duration": 0.0255,
     "end_time": "2022-05-28T07:59:56.241467",
     "exception": false,
     "start_time": "2022-05-28T07:59:56.215967",
     "status": "completed"
    },
    "tags": []
   },
   "outputs": [],
   "source": [
    "y = tit_train.Survived\n",
    "\n",
    "titanic_feat = [\"Pclass\", \"Sex\", \"SibSp\", \"Parch\"]\n",
    "\n",
    "\n",
    "X = pd.get_dummies(tit_train[titanic_feat])\n",
    "X_test = pd.get_dummies(tit_test[titanic_feat])"
   ]
  },
  {
   "cell_type": "code",
   "execution_count": 18,
   "id": "67014fe2",
   "metadata": {
    "execution": {
     "iopub.execute_input": "2022-05-28T07:59:56.261033Z",
     "iopub.status.busy": "2022-05-28T07:59:56.260473Z",
     "iopub.status.idle": "2022-05-28T07:59:56.270480Z",
     "shell.execute_reply": "2022-05-28T07:59:56.269503Z"
    },
    "papermill": {
     "duration": 0.021877,
     "end_time": "2022-05-28T07:59:56.272339",
     "exception": false,
     "start_time": "2022-05-28T07:59:56.250462",
     "status": "completed"
    },
    "tags": []
   },
   "outputs": [
    {
     "data": {
      "text/html": [
       "<div>\n",
       "<style scoped>\n",
       "    .dataframe tbody tr th:only-of-type {\n",
       "        vertical-align: middle;\n",
       "    }\n",
       "\n",
       "    .dataframe tbody tr th {\n",
       "        vertical-align: top;\n",
       "    }\n",
       "\n",
       "    .dataframe thead th {\n",
       "        text-align: right;\n",
       "    }\n",
       "</style>\n",
       "<table border=\"1\" class=\"dataframe\">\n",
       "  <thead>\n",
       "    <tr style=\"text-align: right;\">\n",
       "      <th></th>\n",
       "      <th>Pclass</th>\n",
       "      <th>SibSp</th>\n",
       "      <th>Parch</th>\n",
       "      <th>Sex_female</th>\n",
       "      <th>Sex_male</th>\n",
       "    </tr>\n",
       "  </thead>\n",
       "  <tbody>\n",
       "    <tr>\n",
       "      <th>0</th>\n",
       "      <td>3</td>\n",
       "      <td>1</td>\n",
       "      <td>0</td>\n",
       "      <td>0</td>\n",
       "      <td>1</td>\n",
       "    </tr>\n",
       "    <tr>\n",
       "      <th>1</th>\n",
       "      <td>1</td>\n",
       "      <td>1</td>\n",
       "      <td>0</td>\n",
       "      <td>1</td>\n",
       "      <td>0</td>\n",
       "    </tr>\n",
       "    <tr>\n",
       "      <th>2</th>\n",
       "      <td>3</td>\n",
       "      <td>0</td>\n",
       "      <td>0</td>\n",
       "      <td>1</td>\n",
       "      <td>0</td>\n",
       "    </tr>\n",
       "    <tr>\n",
       "      <th>3</th>\n",
       "      <td>1</td>\n",
       "      <td>1</td>\n",
       "      <td>0</td>\n",
       "      <td>1</td>\n",
       "      <td>0</td>\n",
       "    </tr>\n",
       "    <tr>\n",
       "      <th>4</th>\n",
       "      <td>3</td>\n",
       "      <td>0</td>\n",
       "      <td>0</td>\n",
       "      <td>0</td>\n",
       "      <td>1</td>\n",
       "    </tr>\n",
       "  </tbody>\n",
       "</table>\n",
       "</div>"
      ],
      "text/plain": [
       "   Pclass  SibSp  Parch  Sex_female  Sex_male\n",
       "0       3      1      0           0         1\n",
       "1       1      1      0           1         0\n",
       "2       3      0      0           1         0\n",
       "3       1      1      0           1         0\n",
       "4       3      0      0           0         1"
      ]
     },
     "execution_count": 18,
     "metadata": {},
     "output_type": "execute_result"
    }
   ],
   "source": [
    "X.head()"
   ]
  },
  {
   "cell_type": "markdown",
   "id": "e8426d21",
   "metadata": {
    "papermill": {
     "duration": 0.008655,
     "end_time": "2022-05-28T07:59:56.289909",
     "exception": false,
     "start_time": "2022-05-28T07:59:56.281254",
     "status": "completed"
    },
    "tags": []
   },
   "source": [
    "# **Using RandomForestClassifier**"
   ]
  },
  {
   "cell_type": "code",
   "execution_count": 19,
   "id": "84932a73",
   "metadata": {
    "execution": {
     "iopub.execute_input": "2022-05-28T07:59:56.309806Z",
     "iopub.status.busy": "2022-05-28T07:59:56.309215Z",
     "iopub.status.idle": "2022-05-28T07:59:56.313467Z",
     "shell.execute_reply": "2022-05-28T07:59:56.312851Z"
    },
    "papermill": {
     "duration": 0.016335,
     "end_time": "2022-05-28T07:59:56.315291",
     "exception": false,
     "start_time": "2022-05-28T07:59:56.298956",
     "status": "completed"
    },
    "tags": []
   },
   "outputs": [],
   "source": [
    "# y = tit_train[\"Survived\"]\n",
    "\n",
    "# features = [\"Pclass\", \"Sex\", \"SibSp\", \"Parch\"]\n",
    "# X = pd.get_dummies(tit_train[features])\n",
    "# X_test = pd.get_dummies(tit_test[features])\n",
    "\n",
    "# model = RandomForestClassifier(n_estimators=500, max_depth=10, random_state=1)\n",
    "# model.fit(X, y)\n",
    "# preds_rfc = model.predict(X_test)"
   ]
  },
  {
   "cell_type": "markdown",
   "id": "f9285a22",
   "metadata": {
    "papermill": {
     "duration": 0.008717,
     "end_time": "2022-05-28T07:59:56.332932",
     "exception": false,
     "start_time": "2022-05-28T07:59:56.324215",
     "status": "completed"
    },
    "tags": []
   },
   "source": [
    "# **Using DecisionTreeClassifier**"
   ]
  },
  {
   "cell_type": "code",
   "execution_count": 20,
   "id": "7dc77be9",
   "metadata": {
    "execution": {
     "iopub.execute_input": "2022-05-28T07:59:56.352690Z",
     "iopub.status.busy": "2022-05-28T07:59:56.352279Z",
     "iopub.status.idle": "2022-05-28T07:59:56.372172Z",
     "shell.execute_reply": "2022-05-28T07:59:56.371381Z"
    },
    "papermill": {
     "duration": 0.032331,
     "end_time": "2022-05-28T07:59:56.374449",
     "exception": false,
     "start_time": "2022-05-28T07:59:56.342118",
     "status": "completed"
    },
    "tags": []
   },
   "outputs": [],
   "source": [
    "y = tit_train[\"Survived\"]\n",
    "\n",
    "features = [\"Pclass\", \"Sex\", \"SibSp\", \"Parch\"]\n",
    "X = pd.get_dummies(tit_train[features])\n",
    "X_test = pd.get_dummies(tit_test[features])\n",
    "\n",
    "model = DecisionTreeClassifier(random_state=1)\n",
    "model.fit(X, y)\n",
    "preds_dtc = model.predict(X_test)"
   ]
  },
  {
   "cell_type": "code",
   "execution_count": 21,
   "id": "735dc2d7",
   "metadata": {
    "execution": {
     "iopub.execute_input": "2022-05-28T07:59:56.394380Z",
     "iopub.status.busy": "2022-05-28T07:59:56.393663Z",
     "iopub.status.idle": "2022-05-28T07:59:56.404247Z",
     "shell.execute_reply": "2022-05-28T07:59:56.402941Z"
    },
    "papermill": {
     "duration": 0.022904,
     "end_time": "2022-05-28T07:59:56.406375",
     "exception": false,
     "start_time": "2022-05-28T07:59:56.383471",
     "status": "completed"
    },
    "tags": []
   },
   "outputs": [
    {
     "name": "stdout",
     "output_type": "stream",
     "text": [
      "Your submission was successfully saved!\n"
     ]
    }
   ],
   "source": [
    "# output1 = pd.DataFrame({'PassengerId': tit_test.PassengerId, 'Survived': preds_rfc})\n",
    "# output1.to_csv('submission_rfc.csv', index=False)\n",
    "# print(\"Your submission was successfully saved!\")\n",
    "\n",
    "output2 = pd.DataFrame({'PassengerId': tit_test.PassengerId, 'Survived': preds_dtc})\n",
    "output2.to_csv('submission_dtc.csv', index=False)\n",
    "print(\"Your submission was successfully saved!\")"
   ]
  }
 ],
 "metadata": {
  "kernelspec": {
   "display_name": "Python 3",
   "language": "python",
   "name": "python3"
  },
  "language_info": {
   "codemirror_mode": {
    "name": "ipython",
    "version": 3
   },
   "file_extension": ".py",
   "mimetype": "text/x-python",
   "name": "python",
   "nbconvert_exporter": "python",
   "pygments_lexer": "ipython3",
   "version": "3.7.12"
  },
  "papermill": {
   "default_parameters": {},
   "duration": 13.197181,
   "end_time": "2022-05-28T07:59:57.136362",
   "environment_variables": {},
   "exception": null,
   "input_path": "__notebook__.ipynb",
   "output_path": "__notebook__.ipynb",
   "parameters": {},
   "start_time": "2022-05-28T07:59:43.939181",
   "version": "2.3.4"
  }
 },
 "nbformat": 4,
 "nbformat_minor": 5
}
